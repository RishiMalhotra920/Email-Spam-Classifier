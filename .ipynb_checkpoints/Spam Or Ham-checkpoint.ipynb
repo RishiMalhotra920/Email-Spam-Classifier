{
 "cells": [
  {
   "cell_type": "code",
   "execution_count": 1,
   "metadata": {},
   "outputs": [],
   "source": [
    "import os\n",
    "import numpy as np\n",
    "import pandas as pd\n",
    "import nltk\n",
    "from nltk.stem.porter import *"
   ]
  },
  {
   "cell_type": "code",
   "execution_count": null,
   "metadata": {},
   "outputs": [],
   "source": []
  },
  {
   "cell_type": "code",
   "execution_count": 2,
   "metadata": {},
   "outputs": [],
   "source": [
    "def load_data():\n",
    "    spam_paths = np.array([])\n",
    "    ham_paths = np.array([])\n",
    "    for subdir, dirs, files in os.walk('data'):\n",
    "        for file in files:\n",
    "            if file != 'Summary.txt' and file[-4:] == '.txt':\n",
    "                file_path = os.path.join(subdir, file)\n",
    "                if file_path[-8:] == 'spam.txt':\n",
    "                    spam_paths = np.append(spam_paths, file_path)\n",
    "\n",
    "                elif file_path[-7:] == 'ham.txt':\n",
    "                    ham_paths = np.append(ham_paths, file_path)\n",
    "\n",
    "    print(f'Number of files: {len(spam_paths)+len(ham_paths)}')\n",
    "    print(f'Number of spam: {len(spam_paths)}')\n",
    "    print(f'Number of ham: {len(ham_paths)}')\n",
    "    \n",
    "    return spam_paths, ham_paths"
   ]
  },
  {
   "cell_type": "code",
   "execution_count": 3,
   "metadata": {},
   "outputs": [
    {
     "name": "stdout",
     "output_type": "stream",
     "text": [
      "Number of files: 33716\n",
      "Number of spam: 17171\n",
      "Number of ham: 16545\n"
     ]
    }
   ],
   "source": [
    "spam_paths, ham_paths = load_data()"
   ]
  },
  {
   "cell_type": "code",
   "execution_count": 6,
   "metadata": {},
   "outputs": [],
   "source": [
    "f = open(spam_paths[100], 'r')\n",
    "words = []\n",
    "for line in f:\n",
    "    words += line.split()\n"
   ]
  },
  {
   "cell_type": "code",
   "execution_count": 9,
   "metadata": {},
   "outputs": [],
   "source": [
    "stemmer = PorterStemmer()\n",
    "stemmedWords = [stemmer.stem(word) for word in words]"
   ]
  },
  {
   "cell_type": "code",
   "execution_count": null,
   "metadata": {},
   "outputs": [],
   "source": []
  }
 ],
 "metadata": {
  "kernelspec": {
   "display_name": "Python 3",
   "language": "python",
   "name": "python3"
  },
  "language_info": {
   "codemirror_mode": {
    "name": "ipython",
    "version": 3
   },
   "file_extension": ".py",
   "mimetype": "text/x-python",
   "name": "python",
   "nbconvert_exporter": "python",
   "pygments_lexer": "ipython3",
   "version": "3.8.3"
  }
 },
 "nbformat": 4,
 "nbformat_minor": 4
}
