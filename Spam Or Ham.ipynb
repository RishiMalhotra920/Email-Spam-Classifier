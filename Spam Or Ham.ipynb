{
 "cells": [
  {
   "cell_type": "code",
   "execution_count": 22,
   "metadata": {},
   "outputs": [],
   "source": [
    "import os\n",
    "import numpy as np\n",
    "import pandas as pd\n",
    "import nltk\n",
    "from nltk.stem.porter import *\n",
    "import random"
   ]
  },
  {
   "cell_type": "code",
   "execution_count": null,
   "metadata": {},
   "outputs": [],
   "source": []
  },
  {
   "cell_type": "code",
   "execution_count": 49,
   "metadata": {},
   "outputs": [],
   "source": [
    "def load_data():\n",
    "    spam_paths = []\n",
    "    ham_paths = []\n",
    "    for subdir, dirs, files in os.walk('data'):\n",
    "        for file in files:\n",
    "            if file != 'Summary.txt' and file[-4:] == '.txt':\n",
    "                file_path = os.path.join(subdir, file)\n",
    "                if file_path[-8:] == 'spam.txt':\n",
    "                    spam_paths.append(file_path)\n",
    "                elif file_path[-7:] == 'ham.txt':\n",
    "                    ham_paths.append(file_path)\n",
    "                    \n",
    "    dataset = [(path,1) for path in spam_paths] + [(path,0) for path in ham_paths]\n",
    "    random.shuffle(dataset)\n",
    "    \n",
    "    \n",
    "    train_ratio = 0.8\n",
    "    validation_ratio = 0.1\n",
    "    num_train = int(train_ratio * len(dataset))\n",
    "    num_validation = int(validation_ratio * len(dataset))\n",
    "    \n",
    "    train_set = dataset[:num_train]\n",
    "    validation_set = dataset[num_train : num_train + num_validation]\n",
    "    test_set = dataset[num_train + num_validation:]\n",
    "    \n",
    "    train_X, train_y = zip(*train_set)\n",
    "    validation_X, validation_y = zip(*validation_set)\n",
    "    test_X, test_y = zip(*test_set)\n",
    "    \n",
    "    \n",
    "    print(f'Number of files: {len(spam_paths)+len(ham_paths)}')\n",
    "    print(f'Number of spam: {len(spam_paths)}')\n",
    "    print(f'Number of ham: {len(ham_paths)}')\n",
    "    print(f\"Size of train_set: {len(train_set)}\")\n",
    "    print(f\"Size of validation_set: {len(validation_set)}\")\n",
    "    print(f\"Size of test_set: {len(test_set)}\")\n",
    "    \n",
    "    return train_X, train_y, validation_X, validation_y, test_X, test_y"
   ]
  },
  {
   "cell_type": "code",
   "execution_count": 50,
   "metadata": {},
   "outputs": [
    {
     "name": "stdout",
     "output_type": "stream",
     "text": [
      "Number of files: 33716\n",
      "Number of spam: 17171\n",
      "Number of ham: 16545\n",
      "Size of train_set: 26972\n",
      "Size of validation_set: 3371\n",
      "Size of test_set: 3373\n"
     ]
    }
   ],
   "source": [
    "train_X, train_y, validation_X, validation_y, test_X, test_y = load_data()"
   ]
  },
  {
   "cell_type": "code",
   "execution_count": 55,
   "metadata": {},
   "outputs": [
    {
     "name": "stdout",
     "output_type": "stream",
     "text": [
      "('data/enron4/spam/3202.2004-11-20.GP.spam.txt', 'data/enron1/spam/3183.2004-12-15.GP.spam.txt', 'data/enron3/ham/4437.2001-12-05.kitchen.ham.txt', 'data/enron5/spam/1732.2005-06-22.SA_and_HP.spam.txt', 'data/enron3/spam/0453.2004-09-12.BG.spam.txt', 'data/enron6/ham/5754.2002-02-28.lokay.ham.txt', 'data/enron4/spam/4004.2005-01-23.GP.spam.txt', 'data/enron6/spam/0167.2004-08-12.BG.spam.txt', 'data/enron5/spam/4475.2005-07-19.SA_and_HP.spam.txt', 'data/enron2/spam/3854.2005-07-04.SA_and_HP.spam.txt', 'data/enron6/spam/4448.2005-04-18.BG.spam.txt', 'data/enron1/ham/5034.2001-11-01.farmer.ham.txt', 'data/enron1/spam/1313.2004-06-09.GP.spam.txt', 'data/enron4/spam/0110.2004-01-03.GP.spam.txt', 'data/enron3/ham/0527.2001-04-06.kitchen.ham.txt', 'data/enron2/spam/2053.2005-06-22.SA_and_HP.spam.txt', 'data/enron3/ham/2088.2001-08-21.kitchen.ham.txt', 'data/enron6/spam/1005.2004-10-10.BG.spam.txt', 'data/enron6/ham/0019.2000-06-09.lokay.ham.txt', 'data/enron5/spam/1704.2005-06-22.SA_and_HP.spam.txt')\n"
     ]
    }
   ],
   "source": [
    "print(train_X[:20])"
   ]
  },
  {
   "cell_type": "code",
   "execution_count": 57,
   "metadata": {},
   "outputs": [
    {
     "data": {
      "text/plain": [
       "13225"
      ]
     },
     "execution_count": 57,
     "metadata": {},
     "output_type": "execute_result"
    }
   ],
   "source": [
    "train_y.count(0)\n",
    "train_y.count()"
   ]
  },
  {
   "cell_type": "code",
   "execution_count": 19,
   "metadata": {},
   "outputs": [
    {
     "name": "stdout",
     "output_type": "stream",
     "text": [
      "['Subject:', 'new', 'product', '!', 'cialis', 'soft', 'tabs', '.', 'hi', '!', 'we', 'have', 'a', 'new', 'product', 'that', 'we', 'offer', 'to', 'you', ',', 'c', '_', 'i', '_', 'a', '_', 'l', '_', 'i', '_', 's', 'soft', 'tabs', ',', 'cialis', 'soft', 'tabs', 'is', 'the', 'new', 'impotence', 'treatment', 'drug', 'that', 'everyone', 'is', 'talking', 'about', '.', 'soft', 'tabs', 'acts', 'up', 'to', '36', 'hours', ',', 'compare', 'this', 'to', 'only', 'two', 'or', 'three', 'hours', 'of', 'viagra', 'action', '!', 'the', 'active', 'ingredient', 'is', 'tadalafil', ',', 'same', 'as', 'in', 'brand', 'cialis', '.', 'simply', 'disolve', 'half', 'a', 'pill', 'under', 'your', 'tongue', ',', '10', 'min', 'before', 'sex', ',', 'for', 'the', 'best', 'erections', 'you', \"'\", 've', 'ever', 'had', '!', 'soft', 'tabs', 'also', 'have', 'less', 'sidebacks', '(', 'you', 'can', 'drive', 'or', 'mix', 'alcohol', 'drinks', 'with', 'them', ')', '.', 'you', 'can', 'get', 'it', 'at', ':', 'http', ':', '/', '/', 'the', '-', 'rxsite', '.', 'com', '/', 'soft', '/', 'no', 'thanks', ':', 'http', ':', '/', '/', 'the', '-', 'rxsite', '.', 'com', '/', 'rr', '.', 'php']\n"
     ]
    }
   ],
   "source": [
    "f = open(spam_paths[100], 'r')\n",
    "words = []\n",
    "for line in f:\n",
    "    words += line.split()\n",
    "print(words)"
   ]
  },
  {
   "cell_type": "code",
   "execution_count": 9,
   "metadata": {},
   "outputs": [],
   "source": [
    "stemmer = PorterStemmer()\n",
    "stemmedWords = [stemmer.stem(word) for word in words]"
   ]
  },
  {
   "cell_type": "markdown",
   "metadata": {},
   "source": [
    "stemmedWords"
   ]
  },
  {
   "cell_type": "code",
   "execution_count": 11,
   "metadata": {},
   "outputs": [
    {
     "name": "stdout",
     "output_type": "stream",
     "text": [
      "['subject:', 'new', 'product', '!', 'ciali', 'soft', 'tab', '.', 'hi', '!', 'we', 'have', 'a', 'new', 'product', 'that', 'we', 'offer', 'to', 'you', ',', 'c', '_', 'i', '_', 'a', '_', 'l', '_', 'i', '_', 's', 'soft', 'tab', ',', 'ciali', 'soft', 'tab', 'is', 'the', 'new', 'impot', 'treatment', 'drug', 'that', 'everyon', 'is', 'talk', 'about', '.', 'soft', 'tab', 'act', 'up', 'to', '36', 'hour', ',', 'compar', 'thi', 'to', 'onli', 'two', 'or', 'three', 'hour', 'of', 'viagra', 'action', '!', 'the', 'activ', 'ingredi', 'is', 'tadalafil', ',', 'same', 'as', 'in', 'brand', 'ciali', '.', 'simpli', 'disolv', 'half', 'a', 'pill', 'under', 'your', 'tongu', ',', '10', 'min', 'befor', 'sex', ',', 'for', 'the', 'best', 'erect', 'you', \"'\", 've', 'ever', 'had', '!', 'soft', 'tab', 'also', 'have', 'less', 'sideback', '(', 'you', 'can', 'drive', 'or', 'mix', 'alcohol', 'drink', 'with', 'them', ')', '.', 'you', 'can', 'get', 'it', 'at', ':', 'http', ':', '/', '/', 'the', '-', 'rxsite', '.', 'com', '/', 'soft', '/', 'no', 'thank', ':', 'http', ':', '/', '/', 'the', '-', 'rxsite', '.', 'com', '/', 'rr', '.', 'php']\n"
     ]
    }
   ],
   "source": [
    "print(stemmedWords)"
   ]
  },
  {
   "cell_type": "code",
   "execution_count": null,
   "metadata": {},
   "outputs": [],
   "source": [
    "def tfidf(corpus)"
   ]
  }
 ],
 "metadata": {
  "kernelspec": {
   "display_name": "Python 3",
   "language": "python",
   "name": "python3"
  },
  "language_info": {
   "codemirror_mode": {
    "name": "ipython",
    "version": 3
   },
   "file_extension": ".py",
   "mimetype": "text/x-python",
   "name": "python",
   "nbconvert_exporter": "python",
   "pygments_lexer": "ipython3",
   "version": "3.8.3"
  }
 },
 "nbformat": 4,
 "nbformat_minor": 4
}
